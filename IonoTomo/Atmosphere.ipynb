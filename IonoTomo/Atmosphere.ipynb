{
 "cells": [
  {
   "cell_type": "code",
   "execution_count": null,
   "metadata": {
    "collapsed": true
   },
   "outputs": [],
   "source": [
    "import numpy as np\n",
    "import astropy.coordinates as ac\n",
    "import astropy.units as au\n",
    "\n",
    "class Layer(object):\n",
    "    def __init__(self,radioArray,pointing,height,dr,D):\n",
    "        '''radio array object, pointing is SkyCoord in ICRS, height is radial in km\n",
    "        dr is the resolution of square cells\n",
    "        D is size of one side of the square aperture'''\n",
    "        self.processedTimes = []\n",
    "        self.radioArray = radioArray\n",
    "        self.pointing = pointing\n",
    "        self.height = height\n",
    "        self.dr = dr\n",
    "        self.D = D\n",
    "        \n",
    "        \n",
    "        theta = D/z.to(au.m).value\n",
    "        N = np.ceil(D/dr)\n",
    "        if (N % 2) == 0:\n",
    "            N += 1 #make 2n+1\n",
    "        longitudes = np.linespace(lon0.to(au.rad).value - theta/2.,\n",
    "                                 lon0.to(au.rad).value +theta/2.,\n",
    "                                 N)\n",
    "        latitudes = np.linespace(lat0.to(au.rad).value - theta/2.,\n",
    "                                 lat0.to(au.rad).value +theta/2.,\n",
    "                                 N)\n",
    "        \n",
    "        \n",
    "        \n",
    "    def processed(self,time):\n",
    "        if time in self.processedTimes:\n",
    "            return True\n",
    "        else:\n",
    "            return False    \n",
    "\n",
    "class Atmosphere(object):\n",
    "    def __init__(self,layerHeights,radioArray,self.pointing):\n",
    "        '''Defines an atmosphere box that can be turned into layer'''\n",
    "        sortedLayers = []\n",
    "        for layerHeight in layerHeights:\n",
    "            if layerHeight not in sortedLayers:\n",
    "                sortedLayers.append(layerHeight)\n",
    "        self.layerHeights = np.sort(np.array(sortedLayers))\n",
    "        #make layers which are spherically symmetric\n",
    "        self.layers = {}\n",
    "        #array centroid\n",
    "        c0 = radioArray.getCenter()#ITRS frames\n",
    "        #pointing ra, and dec plus distance\n",
    "        i = 0\n",
    "        while i < len(self.layerHeights):\n",
    "            self.layer[i] = Layer(self.radioArray,\n",
    "                                  self.pointing,\n",
    "                                  self.getLayerHeight(i),\n",
    "                                  self.getWavelength()*10,#resolution?\n",
    "                                  1000.#size in m of layer? or Automatic with fresnel zone size\n",
    "                                 ) \n",
    "            i += 1\n",
    "        \n",
    "    def setTime(self,time):\n",
    "        '''Set the time of the atmosphere, time is astropy.time.Time'''\n",
    "        self.time = time \n",
    "        \n",
    "        "
   ]
  }
 ],
 "metadata": {
  "kernelspec": {
   "display_name": "Python 2",
   "language": "python",
   "name": "python2"
  },
  "language_info": {
   "codemirror_mode": {
    "name": "ipython",
    "version": 2
   },
   "file_extension": ".py",
   "mimetype": "text/x-python",
   "name": "python",
   "nbconvert_exporter": "python",
   "pygments_lexer": "ipython2",
   "version": "2.7.11"
  }
 },
 "nbformat": 4,
 "nbformat_minor": 0
}
