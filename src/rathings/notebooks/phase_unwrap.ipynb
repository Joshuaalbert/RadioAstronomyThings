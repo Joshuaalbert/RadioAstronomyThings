{
 "cells": [
  {
   "cell_type": "code",
   "execution_count": null,
   "metadata": {},
   "outputs": [],
   "source": [
    "#!/bin/env python\n",
    "\n",
    "\"\"\"\n",
    "This unwraps phase\n",
    "author: Joshua Albert\n",
    "albert@strw.leidenuniv.nl\n",
    "\"\"\"\n",
    "\n",
    "import numpy as np\n",
    "\n",
    "def phase_unwrapp1d(theta,axis=None):\n",
    "    '''The difference between two timesteps is unaliased by assumption so theta_i+1 - theta_i < pi.\n",
    "    So Wrap(theta_i+1 - theta_i) is the real gradient and we can integrate them.\n",
    "    if axis is not None then perform the unwrap down an axis.'''\n",
    "    def wrap(phi):\n",
    "        res = 1j*phi\n",
    "        np.exp(res,out=res)\n",
    "        return np.angle(res)\n",
    "    if axis is not None:\n",
    "        theta_ = np.rollaxis(theta,axis)\n",
    "        diff = theta[1:,...] - theta[:-1,...]\n",
    "        grad = wrap(diff)\n",
    "        unwrapped_theta = np.rollaxis(np.zeros(theta.shape,dtype=np.double),axis)\n",
    "        np.cumsum(grad,out=unwrapped_theta[1:,...],axis=0)\n",
    "        unwrapped_theta += theta[0,...]\n",
    "        unwrapped_theta = np.rollaxis(unwrapped_theta,0,start=axis)\n",
    "    else:\n",
    "        diff = theta[1:] - theta[:-1]\n",
    "        grad = wrap(diff)\n",
    "        unwrapped_theta = np.zeros(len(theta),dtype=np.double)\n",
    "        np.cumsum(grad,out=unwrapped_theta[1:])\n",
    "        unwrapped_theta += theta[0]\n",
    "    return unwrapped_theta\n",
    "\n",
    "def test_phase_unwrapp1d():\n",
    "    peak = 30\n",
    "    N = 100\n",
    "    assert peak/(N-1) < np.pi, \"choose a valid test case\"\n",
    "    phase_true = np.linspace(0,peak,N) + np.random.uniform(size=N)*(np.pi - peak/(N-1))\n",
    "    phase_wrap = np.angle(np.exp(1j*phase_true))\n",
    "    phase_unwrap = phase_unwrapp1d(phase_wrap)\n",
    "    assert np.allclose(phase_true,phase_unwrap)\n",
    "    phase_true = np.multiply.outer(phase_true,[1,0.9,0.5])\n",
    "    phase_wrap = np.angle(np.exp(1j*phase_true))\n",
    "    phase_unwrap = phase_unwrapp1d(phase_wrap,axis=0)\n",
    "    assert np.allclose(phase_true,phase_unwrap)\n",
    "    import pylab as plt\n",
    "    plt.plot(phase_wrap)\n",
    "    plt.plot(phase_unwrap)\n",
    "    plt.plot(phase_true)\n",
    "    plt.show()\n",
    "\n",
    "test_phase_unwrapp1d()"
   ]
  }
 ],
 "metadata": {
  "kernelspec": {
   "display_name": "Python 3",
   "language": "python",
   "name": "python3"
  },
  "language_info": {
   "codemirror_mode": {
    "name": "ipython",
    "version": 3
   },
   "file_extension": ".py",
   "mimetype": "text/x-python",
   "name": "python",
   "nbconvert_exporter": "python",
   "pygments_lexer": "ipython3",
   "version": "3.6.1"
  }
 },
 "nbformat": 4,
 "nbformat_minor": 2
}
