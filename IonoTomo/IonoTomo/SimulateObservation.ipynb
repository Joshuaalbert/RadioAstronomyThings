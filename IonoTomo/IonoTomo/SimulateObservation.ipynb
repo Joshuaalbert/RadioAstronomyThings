{
 "cells": [
  {
   "cell_type": "code",
   "execution_count": 1,
   "metadata": {
    "collapsed": false
   },
   "outputs": [
    {
     "ename": "SyntaxError",
     "evalue": "invalid syntax (<ipython-input-1-2d81451b6db3>, line 6)",
     "output_type": "error",
     "traceback": [
      "\u001b[1;36m  File \u001b[1;32m\"<ipython-input-1-2d81451b6db3>\"\u001b[1;36m, line \u001b[1;32m6\u001b[0m\n\u001b[1;33m    dir = \"J2000 {0:.8f}deg {1:.8f}deg\".format(ra+np.)\u001b[0m\n\u001b[1;37m                                                     ^\u001b[0m\n\u001b[1;31mSyntaxError\u001b[0m\u001b[1;31m:\u001b[0m invalid syntax\n"
     ]
    }
   ],
   "source": [
    "import numpy as np\n",
    "\n",
    "def makeFakeCatalog(ra,dec,scatter=0.5,n=100):\n",
    "    i = 0\n",
    "    catalog = []\n",
    "    while i  < n:\n",
    "        dir = \"J2000 {0:.8f}deg {1:.8f}deg\".format(np.random.normal(loc=ra,scale=scatter),np.random.normal(loc=dec,scale=scatter))\n",
    "        flux = np.random.uniform()*1.5\n",
    "        shape = 'S'\n",
    "        catalog.append([dir,flux,shape,])\n",
    "        i += 1\n",
    "    return catalog\n",
    "\n",
    "def makeCompList(catalog,freq=\"150MHz\"):\n",
    "    os.system('rm -rf point.cl')\n",
    "    cl.done()\n",
    "    for row in catalog:\n",
    "        print row\n",
    "        dir = row[0]#\"J2000 10h00m00.08s -30d00m02.0s\"\n",
    "        flux = row[1]#1.0\n",
    "        shape = row[2]#S point or G gaussian\n",
    "        if shape == 'S':\n",
    "            cl.addcomponent(dir=dir,\n",
    "                            flux=flux,\n",
    "                            fluxunit='Jy',\n",
    "                            freq=freq, shape=\"point\")\n",
    "        else:\n",
    "            bmaj = row[3]#\"1arcmin\"\n",
    "            bmin = row[4]#\"1arcmin\"\n",
    "            bpa = row[5]#\"40deg\"\n",
    "            cl.addcomponent(dir=dir,\n",
    "                            flux=flux,\n",
    "                            fluxunit='Jy',\n",
    "                            freq=freq, shape=\"Gaussian\",\n",
    "                           majoraxis = bmaj,\n",
    "                           minoraxis = bmin,\n",
    "                           positionangle = bpa)\n",
    "        cl.rename('point.cl')\n",
    "    cl.done()\n",
    "\n",
    "catalog = makeFakeCatalog(45,45,scatter=0.5,n=100)\n",
    "makeCompList(catalog,freq=\"150MHz\")\n",
    "\n",
    "# In CASA\n",
    "default(\"simobserve\")\n",
    "project = \"FITS_list\"\n",
    "complist = 'point.cl'\n",
    "compwidth = '10MHz'\n",
    "direction = \"J2000 3h00m00.0s 45d00m00.0s\"\n",
    "obsmode = \"int\"\n",
    "antennalist = '/net/geleen/data2/albert/owncloud/RadioAstronomyThings/IonoTomo/lofar.cycle0.hba.antenna.cfg'\n",
    "totaltime = \"360s\"\n",
    "mapsize = \"1deg\"\n",
    "simobserve()\n",
    "#\n",
    "#default(\"simanalyze\")\n",
    "#project = \"FITS_list\"\n",
    "#vis=\"FITS_list.alma.cycle0.compact.ms\"\n",
    "#imsize = [256,256]\n",
    "#imdirection = \"J2000 10h00m00.0s -30d00m00.0s\" \n",
    "#cell = '0.1arcsec'\n",
    "#niter = 5000\n",
    "#threshold = '10.0mJy/beam'\n",
    "#analyze = True\n",
    "#simanalyze()\n",
    "\n"
   ]
  },
  {
   "cell_type": "code",
   "execution_count": null,
   "metadata": {
    "collapsed": true
   },
   "outputs": [],
   "source": []
  }
 ],
 "metadata": {
  "kernelspec": {
   "display_name": "Python 2",
   "language": "python",
   "name": "python2"
  },
  "language_info": {
   "codemirror_mode": {
    "name": "ipython",
    "version": 2
   },
   "file_extension": ".py",
   "mimetype": "text/x-python",
   "name": "python",
   "nbconvert_exporter": "python",
   "pygments_lexer": "ipython2",
   "version": "2.7.11"
  }
 },
 "nbformat": 4,
 "nbformat_minor": 0
}
