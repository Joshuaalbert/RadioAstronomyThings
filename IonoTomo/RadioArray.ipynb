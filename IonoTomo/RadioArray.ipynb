{
 "cells": [
  {
   "cell_type": "code",
   "execution_count": null,
   "metadata": {
    "collapsed": true
   },
   "outputs": [],
   "source": [
    "import astropy.coordinates as ac\n",
    "import astropy.units as au\n",
    "import astropy.time as at\n",
    "import numpy as np\n",
    "\n",
    "class RadioArray(object):\n",
    "    def __init__(self,arrayFile = None,log = None,name = None,msFile=None,numAntennas=0,earthLocs=None):\n",
    "        self.log = log\n",
    "        self.locs = []\n",
    "        if arrayFile is not None:\n",
    "            self.arrayFile = arrayFile\n",
    "            self.loadArrayFile(arrayFile)\n",
    "    def loadArrayFile(self,arrayFile):\n",
    "        '''Loads a csv where each row is x,y,z in geocentric coords of the antennas'''\n",
    "        d = np.genfromtxt(arrayFile)\n",
    "        i = 0\n",
    "        locs = []\n",
    "        while i < d.shape[0]:\n",
    "            earthLoc = ac.SkyCoord(x=d[i,0]*au.m,y=d[i,1]*au.m,z=d[i,2]*au.m,frame='itrs')\n",
    "            locs.append(earthLoc)\n",
    "            i += 1\n",
    "        self.addLocs(locs)\n",
    "    def saveArrayFile(self,arrayFile):\n",
    "        pass\n",
    "    def loadMsFile(self,msFIle):\n",
    "        '''Get antenna positions from ms, array name, frequency'''\n",
    "        pass\n",
    "\n",
    "    def addLocs(self,locs):\n",
    "        '''Add antenna locations. Each location is an EarthLocation.'''\n",
    "        i = 0\n",
    "        while i < len(locs):\n",
    "            self.locs.append(locs[i])\n",
    "            i += 1\n",
    "        self.calcCenter()\n",
    "    def calcCenter(self):\n",
    "        '''calculates the centroid of the array based on self.locs returns the EarthLocation of center'''\n",
    "        r0 = np.array([0,0,0])*au.m\n",
    "        i = 0\n",
    "        while i < len(self.locs):\n",
    "            locgc = self.locs[i].earth_location.geocentric\n",
    "            r0 += np.array([locgc[0].to(au.m).value,\n",
    "                              locgc[1].to(au.m).value,\n",
    "                              locgc[2].to(au.m).value])*au.m\n",
    "            i += 1\n",
    "        r0 /= float(len(self.locs))\n",
    "        self.center = ac.SkyCoord(x=r0[0],y=r0[1],z=r0[2],frame='itrs')\n",
    "        self.log(\"Center of array: {0}\".format(self.center))\n",
    "        return self.center\n",
    "    \n",
    "    def getCenter(self):\n",
    "        try:\n",
    "            return self.center\n",
    "        except:\n",
    "            self.calcCenter()\n",
    "            return self.center\n"
   ]
  }
 ],
 "metadata": {
  "kernelspec": {
   "display_name": "Python 2",
   "language": "python",
   "name": "python2"
  },
  "language_info": {
   "codemirror_mode": {
    "name": "ipython",
    "version": 2
   },
   "file_extension": ".py",
   "mimetype": "text/x-python",
   "name": "python",
   "nbconvert_exporter": "python",
   "pygments_lexer": "ipython2",
   "version": "2.7.11"
  }
 },
 "nbformat": 4,
 "nbformat_minor": 0
}
