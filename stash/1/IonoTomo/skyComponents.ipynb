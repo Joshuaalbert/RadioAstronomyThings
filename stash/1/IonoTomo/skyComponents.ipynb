{
 "cells": [
  {
   "cell_type": "code",
   "execution_count": 23,
   "metadata": {
    "collapsed": false
   },
   "outputs": [
    {
     "name": "stdout",
     "output_type": "stream",
     "text": [
      "160000000.0\n"
     ]
    }
   ],
   "source": [
    "'''\n",
    "We represent a sky model as:\n",
    "id,ra,dec,S(nu=nu0),spectralindex=-0.73\n",
    "ICRS frame\n",
    "'''\n",
    "import numpy as np\n",
    "import astropy.coordinates as ac\n",
    "import astropy.units as au\n",
    "import os\n",
    "\n",
    "class skyModel(object):\n",
    "    def __init__(self,fileName = \"\"):\n",
    "        self.skyModel = None\n",
    "        self.nu0 = 150e6\n",
    "        if os.path.isfile(fileName):\n",
    "            try:\n",
    "                self.loadSkyModel(fileName)\n",
    "            except:\n",
    "                print(\"Could\")\n",
    "    def getSource(self,id):\n",
    "        if self.skyModel.shape[0]>id:\n",
    "            row = self.skyModel[id,:]\n",
    "            if id != row[0]:\n",
    "                #something wrong\n",
    "                return None\n",
    "            ra = row[1]\n",
    "            dec = row[2]\n",
    "            icrsLoc = ac.ICRS(ra=ra*au.deg,dec=dec*au.deg)\n",
    "            return icrsLoc,row[3],row[4]\n",
    "    def getFullSky(self):\n",
    "        icrsLocs = ac.ICRS(ra=self.skyModel[:,1]*au.deg,dec =self.skyModel[:,2]*au.deg)\n",
    "        return icrsLocs,self.skyModel[:,3],self.skyModel[:,4]\n",
    "    \n",
    "    def addSource(self,icrsLoc,S,alpha1,nu0=None):\n",
    "        ra = icrsLoc.ra.deg\n",
    "        dec = icrsLoc.dec.deg\n",
    "        if nu0 is not None:\n",
    "            self.nu0 = nu0\n",
    "        if self.skyModel is None:\n",
    "            self.skyModel = np.array([[0,ra,dec,S,alpha1]])\n",
    "        else:\n",
    "            id = self.skyModel.shape[0]\n",
    "            self.skyModel = np.append(self.skyModel,[[id,ra,dec,S,alpha1]],axis=0)\n",
    "    def loadSkyModel(self,filename):\n",
    "        '''load skymodel from file.'''\n",
    "        self.skyModel = np.genfromtxt(filename,comments='#',delimiter=',',names=True)\n",
    "        self.nu0 = float(self.skyModel.dtype.names[3].split('Hz')[0].split('S')[1])\n",
    "        \n",
    "        \n",
    "    def saveSkyModel(self,filename):\n",
    "        '''Save skymodel to file.'''\n",
    "        np.savetxt(filename,self.skyModel,fmt='%-5d,%5.10f,%5.10f,%5.10f,%+5.5f',delimiter=',',header=\"id,ra,dec,S({0}Hz),alpha1\".format(int(self.nu0)),comments='#')\n",
    "\n",
    "if __name__=='__main__':\n",
    "    src1 = ac.ICRS(ra=0*au.deg,dec=0*au.deg),1,-0.5,160e6\n",
    "    SM = skyModel()\n",
    "    SM.addSource(*src1)\n",
    "    SM.saveSkyModel('testSM.csv')\n",
    "    SM.loadSkyModel('testSM.csv')\n",
    "    \n",
    "        "
   ]
  },
  {
   "cell_type": "code",
   "execution_count": null,
   "metadata": {
    "collapsed": true
   },
   "outputs": [],
   "source": []
  }
 ],
 "metadata": {
  "kernelspec": {
   "display_name": "Python 2",
   "language": "python",
   "name": "python2"
  },
  "language_info": {
   "codemirror_mode": {
    "name": "ipython",
    "version": 2
   },
   "file_extension": ".py",
   "mimetype": "text/x-python",
   "name": "python",
   "nbconvert_exporter": "python",
   "pygments_lexer": "ipython2",
   "version": "2.7.11"
  }
 },
 "nbformat": 4,
 "nbformat_minor": 0
}
