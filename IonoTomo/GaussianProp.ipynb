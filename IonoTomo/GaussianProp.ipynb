{
 "cells": [
  {
   "cell_type": "code",
   "execution_count": null,
   "metadata": {
    "collapsed": true
   },
   "outputs": [],
   "source": [
    "import numpy as np\n",
    "\n",
    "def fft( data ):\n",
    "    return numpy.fft.fftshift( numpy.fft.fftn( numpy.fft.ifftshift( data ) ) )\n",
    "\n",
    "def ifft( data ):\n",
    "    return numpy.fft.fftshift( numpy.fft.ifftn( numpy.fft.ifftshift( data ) ) )\n",
    "\n",
    "'''Propagate Gaussians from sky model (a sum of point or gaussians) to the upper layers of the ionosphere,\n",
    "and then onward through to the array.\n",
    "We can propagate the intensity and the auto-correlation. Both have nice features in fourier propagation.'''\n",
    "\n"
   ]
  }
 ],
 "metadata": {
  "kernelspec": {
   "display_name": "Python 2",
   "language": "python",
   "name": "python2"
  },
  "language_info": {
   "codemirror_mode": {
    "name": "ipython",
    "version": 2
   },
   "file_extension": ".py",
   "mimetype": "text/x-python",
   "name": "python",
   "nbconvert_exporter": "python",
   "pygments_lexer": "ipython2",
   "version": "2.7.11"
  }
 },
 "nbformat": 4,
 "nbformat_minor": 0
}
