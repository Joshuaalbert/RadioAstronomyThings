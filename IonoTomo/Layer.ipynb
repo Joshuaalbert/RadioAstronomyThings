{
 "cells": [
  {
   "cell_type": "code",
   "execution_count": 1,
   "metadata": {
    "collapsed": true
   },
   "outputs": [],
   "source": [
    "import numpy as np\n",
    "\n",
    "class Layer(object):\n",
    "    def __init__(self,center,,cells,dx,dy,width,center):\n",
    "        '''width=np.inf is a semi-infinite layer'''\n",
    "        self.idx = idx\n",
    "        self.cells = cells\n",
    "        self.dx = dx\n",
    "        self.dy = dy\n",
    "        self.width = width\n",
    "        self.center = center\n",
    "        self.c0 = self.cells.shape[]\n",
    "    \n",
    "    def index2coords(self,xidx,yidx):\n",
    "        self.c0[0] + xidx*self.dx\n",
    "            \n",
    "    def getRefractiveIndex(self,x,y):\n",
    "        '''Get refractive index of a particular cell'''\n",
    "        nx = np.int64(x/dx)\n",
    "        ny = np.int64(y/dy)\n",
    "        return self.cells[ny,nx]\n",
    "    \n",
    "    "
   ]
  }
 ],
 "metadata": {
  "kernelspec": {
   "display_name": "Python 3",
   "language": "python",
   "name": "python3"
  },
  "language_info": {
   "codemirror_mode": {
    "name": "ipython",
    "version": 3
   },
   "file_extension": ".py",
   "mimetype": "text/x-python",
   "name": "python",
   "nbconvert_exporter": "python",
   "pygments_lexer": "ipython3",
   "version": "3.5.1"
  }
 },
 "nbformat": 4,
 "nbformat_minor": 0
}
