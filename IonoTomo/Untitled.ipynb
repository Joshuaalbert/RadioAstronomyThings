{
 "cells": [
  {
   "cell_type": "code",
   "execution_count": 3,
   "metadata": {
    "collapsed": false
   },
   "outputs": [
    {
     "name": "stdout",
     "output_type": "stream",
     "text": [
      "(2000, 2000)\n"
     ]
    }
   ],
   "source": [
    "import numpy as np\n",
    "import pylab as plt\n",
    "from scipy.signal import resample,correlate2d\n",
    "\n",
    "def fft(A,n=None):\n",
    "    '''exp{-i2pi (lu + mv)}'''\n",
    "    return np.fft.fftshift(np.fft.fft2(np.fft.fftshift(A),s=n))\n",
    "\n",
    "def ifft(A,n=None):\n",
    "    '''exp{i2pi (lu + mv)}'''\n",
    "    return np.fft.ifftshift(np.fft.ifft2(np.fft.ifftshift(A),s=n))\n",
    "\n",
    "def conv2d(A,B):\n",
    "    if np.size(A) != np.size(B):\n",
    "        print(\"wrong sizes\")\n",
    "        return\n",
    "    return np.fft.ifft2(np.fft.fft2(A)*np.fft.fft2(B))\n",
    "\n",
    "def autocorr(A):\n",
    "    F = fft(A)\n",
    "    return ifft(F*np.conjugate(F))\n",
    "\n",
    "def regrid2(A,shape,ax0=None,ax1=None):\n",
    "    '''Uses fft to regrid ...'''\n",
    "    if ax0 is not None:\n",
    "        B,tb = resample(A,shape[0],t=ax0,axis=0)\n",
    "    else:\n",
    "        B = resample(A,shape[0],axis=0)\n",
    "    if ax1 is not None:\n",
    "        C,tc = resample(B,shape[1],t=ax1,axis=1)\n",
    "    else:\n",
    "        C = resample(B,shape[1],axis=1)\n",
    "    return C\n",
    "\n",
    "def dft2(A,L,M,x,y):\n",
    "    res = np.zeros_like(L,dtype=type(1j))*1j\n",
    "\n",
    "    n = 0\n",
    "    while n < np.size(x):\n",
    "        print(n/np.size(x))\n",
    "        p = 0\n",
    "        while p < np.size(y):\n",
    "            res += A[n,p]*np.exp(-1j*2.*np.pi*(x[n]*L + y[p]*M))\n",
    "            #print(res[i,j])\n",
    "            p += 1\n",
    "        n += 1\n",
    "       \n",
    "           \n",
    "    return res\n",
    "\n",
    "'''propagate distortions'''\n",
    "w = 100000\n",
    "up = np.linspace(-10,10,1000)\n",
    "dx=np.abs(up[1]-up[0])\n",
    "U,V = np.meshgrid(up,up)\n",
    "l = np.fft.fftshift(np.fft.fftfreq(10000,d=dx))\n",
    "m = l\n",
    "L,M = np.meshgrid(l,m)\n",
    "u = 0\n",
    "v = 0\n",
    "k = np.exp(1j*2*np.pi*w*(-2/w**2*(u*U + v*V) + V**2/w**2 + U**2/w**2))\n",
    "#k = w/(1j*distance)*exp(1j*2*np.pi*0.5/distance*Z)\n",
    "#Af = dft2(k,L,M,up,up)*dx**2\n",
    "\n",
    "Af = fft(np.real(k),n=[2000,2000])*dx**2 + 1j*fft(np.imag(k),n=[2000,2000])*dx**2\n",
    "print (np.imag(Af).shape)\n",
    "A = 1j*w/2.*np.exp(-1j*np.pi/2./w*(4*L*u*w + 4*M*v*w + 4*(u**2+v**2) + (L**2 + M**2)*w**2))\n",
    "#kf = ifft(A/dx**2)\n",
    "import pylab as plt\n",
    "#print(np.mean(np.abs(kf)))\n",
    "plt.imshow(np.angle (A),interpolation='nearest',origin='lower')\n",
    "plt.colorbar()\n",
    "plt.show()\n",
    "    "
   ]
  },
  {
   "cell_type": "code",
   "execution_count": null,
   "metadata": {
    "collapsed": false
   },
   "outputs": [],
   "source": [
    "help(np.fft.fft)"
   ]
  },
  {
   "cell_type": "code",
   "execution_count": 116,
   "metadata": {
    "collapsed": false
   },
   "outputs": [
    {
     "name": "stdout",
     "output_type": "stream",
     "text": [
      "[ 0.   0.8  1.6 -1.6 -0.8]\n"
     ]
    }
   ],
   "source": [
    "x = np.linspace(0,1,5)\n",
    "X,Y = np.meshgrid(x,x)\n",
    "l = np.fft.fftfreq(5,x[1]-x[0])\n",
    "print (l)"
   ]
  },
  {
   "cell_type": "code",
   "execution_count": null,
   "metadata": {
    "collapsed": true
   },
   "outputs": [],
   "source": []
  }
 ],
 "metadata": {
  "kernelspec": {
   "display_name": "Python 3",
   "language": "python",
   "name": "python3"
  },
  "language_info": {
   "codemirror_mode": {
    "name": "ipython",
    "version": 3
   },
   "file_extension": ".py",
   "mimetype": "text/x-python",
   "name": "python",
   "nbconvert_exporter": "python",
   "pygments_lexer": "ipython3",
   "version": "3.5.1"
  }
 },
 "nbformat": 4,
 "nbformat_minor": 0
}
