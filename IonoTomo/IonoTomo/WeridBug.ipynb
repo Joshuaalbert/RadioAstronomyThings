{
 "cells": [
  {
   "cell_type": "code",
   "execution_count": 13,
   "metadata": {
    "collapsed": false
   },
   "outputs": [
    {
     "name": "stdout",
     "output_type": "stream",
     "text": [
      "Building bounded plane with squarly arranged vertices:\n",
      "[ 0. -1.  0.]\n",
      "Plane: normal: [ 0. -1.  0.], d=-n.p -1.0\n",
      "[ 0. -1.  0.]\n",
      "Plane: normal: [ 0. -1.  0.], d=-n.p -1.0\n"
     ]
    }
   ],
   "source": [
    "import numpy as np\n",
    "\n",
    "class Plane(object):\n",
    "    def __init__(self,p1,p2=None,p3=None,p4=None,normal=None):\n",
    "        '''If normal is defined and surface defines a part of a convex polyhedron,\n",
    "        take normal to point inside the poly hedron.\n",
    "        ax+by+cz+d=0'''\n",
    "        if normal is None:\n",
    "            if p2 is None and p3 is None:\n",
    "                print(\"Not enough information\")\n",
    "                return\n",
    "            a = p1[1]*(p2[2] - p3[2]) + p2[1]*(p3[2] - p1[2]) + p3[1]*(p1[2] - p2[2])\n",
    "            b = p1[2]*(p2[0] - p3[0]) + p2[2]*(p3[0] - p1[0]) + p3[2]*(p1[0] - p2[0])\n",
    "            c = p1[0]*(p2[1] - p3[1]) + p2[0]*(p3[1] - p1[1]) + p3[0]*(p1[1] - p2[1])\n",
    "            d = -p1[0]*(p2[1]*p3[2] - p3[1]*p2[2]) - p2[0]*(p3[1]*p1[2] - p1[1]*p3[2]) - p3[0]*(p1[1]*p2[2] - p2[1]*p1[2])\n",
    "            self.n = np.array([a,b,c])\n",
    "            self.d = d/np.linalg.norm(self.n)\n",
    "            self.n = self.n/np.linalg.norm(self.n)\n",
    "            print self.n\n",
    "        else:\n",
    "            self.n = np.array(normal)\n",
    "            self.n = self.n/np.linalg.norm(self.n)\n",
    "            self.d = -self.n.dot(p1)\n",
    "    def __repr__(self):\n",
    "        return \"Plane: normal: {0}, d=-n.p {1}\".format(self.n,self.d)\n",
    "    \n",
    "class BoundedPlane(Plane):\n",
    "    '''assumes convex hull of 4 points'''\n",
    "    def __init__(self,vertices):\n",
    "        if len(vertices) != 4:\n",
    "            print(\"Not enough vertices\")\n",
    "            return\n",
    "        super(BoundedPlane,self).__init__(*vertices)\n",
    "\n",
    "if __name__ == '__main__':    \n",
    "    print \"Building bounded plane with squarly arranged vertices:\"\n",
    "    print Plane(np.array([-1,-1,-1]),\n",
    "                np.array([1,-1,-1]),\n",
    "                np.array([1,-1,1]),\n",
    "                np.array([-1,-1,1]))\n",
    "    print BoundedPlane([np.array([-1,-1,-1]),\n",
    "                        np.array([1,-1,-1]),\n",
    "                        np.array([1,-1,1]),\n",
    "                        np.array([-1,-1,1])])"
   ]
  },
  {
   "cell_type": "code",
   "execution_count": null,
   "metadata": {
    "collapsed": true
   },
   "outputs": [],
   "source": []
  },
  {
   "cell_type": "code",
   "execution_count": null,
   "metadata": {
    "collapsed": true
   },
   "outputs": [],
   "source": []
  }
 ],
 "metadata": {
  "kernelspec": {
   "display_name": "Python 2",
   "language": "python",
   "name": "python2"
  },
  "language_info": {
   "codemirror_mode": {
    "name": "ipython",
    "version": 2
   },
   "file_extension": ".py",
   "mimetype": "text/x-python",
   "name": "python",
   "nbconvert_exporter": "python",
   "pygments_lexer": "ipython2",
   "version": "2.7.11"
  }
 },
 "nbformat": 4,
 "nbformat_minor": 0
}
