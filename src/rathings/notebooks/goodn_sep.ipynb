{
 "cells": [
  {
   "cell_type": "code",
   "execution_count": null,
   "metadata": {},
   "outputs": [],
   "source": [
    "from rathings import tec_solver\n",
    "import h5py\n",
    "import pylab as plt\n",
    "import numpy as np\n",
    "\n",
    "data = \"../../../goods-n.hdf5\"\n",
    "\n",
    "h = h5py.File(data,'r')\n",
    "freqs = h['freq'][...]\n",
    "\n",
    "def print_attrs(name, obj):\n",
    "    if \"facet_patch\" not in name:\n",
    "        return\n",
    "    print(\"Solving {}\".format(name))\n",
    "    phase = obj['phase'][:,:,0]\n",
    "    phase[phase==0] = np.nan\n",
    "    ni = phase.shape[0]\n",
    "    f = plt.figure(figsize=(7*4,7*4))\n",
    "    for i in range(ni):\n",
    "        m = tec_solver.l1data_l2model_solve(np.reshape(phase[i,:],(len(freqs),1)),freqs,5)\n",
    "        print(m)\n",
    "\n",
    "\n",
    "h.visititems(print_attrs)"
   ]
  },
  {
   "cell_type": "code",
   "execution_count": null,
   "metadata": {
    "collapsed": true
   },
   "outputs": [],
   "source": []
  }
 ],
 "metadata": {
  "kernelspec": {
   "display_name": "Python 3",
   "language": "python",
   "name": "python3"
  },
  "language_info": {
   "codemirror_mode": {
    "name": "ipython",
    "version": 3
   },
   "file_extension": ".py",
   "mimetype": "text/x-python",
   "name": "python",
   "nbconvert_exporter": "python",
   "pygments_lexer": "ipython3",
   "version": "3.6.1"
  }
 },
 "nbformat": 4,
 "nbformat_minor": 2
}
