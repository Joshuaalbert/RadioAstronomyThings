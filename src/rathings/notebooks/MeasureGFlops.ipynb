{
 "cells": [
  {
   "cell_type": "code",
   "execution_count": 1,
   "metadata": {
    "collapsed": false,
    "scrolled": true
   },
   "outputs": [
    {
     "name": "stdout",
     "output_type": "stream",
     "text": [
      "lapack_opt_info:\n",
      "    libraries = ['mkl_lapack95_lp64', 'mkl_core_dll', 'mkl_intel_lp64_dll', 'mkl_intel_thread_dll']\n",
      "    library_dirs = ['C:\\\\aroot\\\\stage\\\\Library\\\\lib']\n",
      "    define_macros = [('SCIPY_MKL_H', None)]\n",
      "    include_dirs = ['C:\\\\aroot\\\\stage\\\\Library\\\\include']\n",
      "blas_opt_info:\n",
      "    libraries = ['mkl_core_dll', 'mkl_intel_lp64_dll', 'mkl_intel_thread_dll']\n",
      "    library_dirs = ['C:\\\\aroot\\\\stage\\\\Library\\\\lib']\n",
      "    define_macros = [('SCIPY_MKL_H', None)]\n",
      "    include_dirs = ['C:\\\\aroot\\\\stage\\\\Library\\\\include']\n",
      "openblas_lapack_info:\n",
      "  NOT AVAILABLE\n",
      "lapack_mkl_info:\n",
      "    libraries = ['mkl_lapack95_lp64', 'mkl_core_dll', 'mkl_intel_lp64_dll', 'mkl_intel_thread_dll']\n",
      "    library_dirs = ['C:\\\\aroot\\\\stage\\\\Library\\\\lib']\n",
      "    define_macros = [('SCIPY_MKL_H', None)]\n",
      "    include_dirs = ['C:\\\\aroot\\\\stage\\\\Library\\\\include']\n",
      "blas_mkl_info:\n",
      "    libraries = ['mkl_core_dll', 'mkl_intel_lp64_dll', 'mkl_intel_thread_dll']\n",
      "    library_dirs = ['C:\\\\aroot\\\\stage\\\\Library\\\\lib']\n",
      "    define_macros = [('SCIPY_MKL_H', None)]\n",
      "    include_dirs = ['C:\\\\aroot\\\\stage\\\\Library\\\\include']\n",
      "mkl_info:\n",
      "    libraries = ['mkl_core_dll', 'mkl_intel_lp64_dll', 'mkl_intel_thread_dll']\n",
      "    library_dirs = ['C:\\\\aroot\\\\stage\\\\Library\\\\lib']\n",
      "    define_macros = [('SCIPY_MKL_H', None)]\n",
      "    include_dirs = ['C:\\\\aroot\\\\stage\\\\Library\\\\include']\n",
      "  64 size, 0.08260002 ms,  92.25179 GFLOPS\n",
      "  80 size, 0.07860003 ms,   121.374 GFLOPS\n",
      "  96 size,    0.1028 ms,  111.4786 GFLOPS\n",
      " 104 size,    0.0908 ms,  136.7841 GFLOPS\n",
      " 112 size,    0.1058 ms,   126.465 GFLOPS\n",
      " 120 size,     0.142 ms,  100.9859 GFLOPS\n",
      " 128 size,    0.1166 ms,  131.2178 GFLOPS\n",
      " 144 size,    0.1482 ms,  116.1943 GFLOPS\n",
      " 160 size,    0.2594 ms,  73.78566 GFLOPS\n",
      " 176 size,    0.1448 ms,   145.442 GFLOPS\n",
      " 192 size,    0.1682 ms,  136.6231 GFLOPS\n",
      " 200 size,     0.165 ms,  145.0909 GFLOPS\n",
      " 208 size,    0.1938 ms,   128.483 GFLOPS\n",
      " 224 size,     0.193 ms,  138.9637 GFLOPS\n",
      " 240 size,    0.2012 ms,   142.843 GFLOPS\n",
      " 256 size,    0.2332 ms,  131.4751 GFLOPS\n",
      " 384 size,    0.3218 ms,  143.0081 GFLOPS\n",
      " 512 size,    0.4228 ms,   145.175 GFLOPS\n",
      "1024 size,    0.8268 ms,  148.5486 GFLOPS\n",
      "2048 size,    1.7638 ms,  139.3015 GFLOPS\n"
     ]
    }
   ],
   "source": [
    "import numpy as np  \n",
    "import time   \n",
    "N = 6000  \n",
    "M = 10000  \n",
    "  \n",
    "k_list = [64, 80, 96, 104, 112, 120, 128, 144, 160, 176, 192, 200, 208, 224, 240, 256, 384,512,1024,2048]  \n",
    "  \n",
    "def get_gflops(M, N, K):  \n",
    "    return M*N*(2.0*K-1.0) / 1000**3  \n",
    "  \n",
    "np.show_config()  \n",
    "  \n",
    "for K in k_list:  \n",
    "    a = np.array(np.random.random((M, N)), dtype=np.double, order='C', copy=False)  \n",
    "    b = np.array(np.random.random((N, K)), dtype=np.double, order='C', copy=False)  \n",
    "    A = np.matrix(a, dtype=np.double, copy=False)  \n",
    "    B = np.matrix(b, dtype=np.double, copy=False)  \n",
    "  \n",
    "    C = A*B  \n",
    "  \n",
    "    start = time.time()  \n",
    "  \n",
    "    C = A*B  \n",
    "    C = A*B  \n",
    "    C = A*B  \n",
    "    C = A*B  \n",
    "    C = A*B  \n",
    "  \n",
    "    end = time.time()  \n",
    "  \n",
    "    tm = (end-start) / 5.0  \n",
    "  \n",
    "    print ('{0:4} size, {1:9.7} s, {2:9.7} GFLOPS'.format(K, tm, get_gflops(M, N, K) / tm))"
   ]
  }
 ],
 "metadata": {
  "anaconda-cloud": {},
  "kernelspec": {
   "display_name": "Python [default]",
   "language": "python",
   "name": "python2"
  },
  "language_info": {
   "codemirror_mode": {
    "name": "ipython",
    "version": 2
   },
   "file_extension": ".py",
   "mimetype": "text/x-python",
   "name": "python",
   "nbconvert_exporter": "python",
   "pygments_lexer": "ipython2",
   "version": "2.7.12"
  }
 },
 "nbformat": 4,
 "nbformat_minor": 1
}
