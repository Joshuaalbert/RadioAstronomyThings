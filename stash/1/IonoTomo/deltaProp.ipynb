{
 "cells": [
  {
   "cell_type": "code",
   "execution_count": 9,
   "metadata": {
    "collapsed": false
   },
   "outputs": [
    {
     "name": "stdout",
     "output_type": "stream",
     "text": [
      "number:100\n",
      "(103.453981466+0j)\n"
     ]
    }
   ],
   "source": [
    "import numpy as np\n",
    "import pylab as plt\n",
    "from scipy.signal import resample,correlate2d\n",
    "\n",
    "def fft(A):\n",
    "    return np.fft.fftshift(np.fft.fft2(A))\n",
    "\n",
    "def ifft(A):\n",
    "    return np.fft.ifft2(np.fft.ifftshift(A))\n",
    "\n",
    "def conv2d(A,B):\n",
    "    if np.size(A) != np.size(B):\n",
    "        print(\"wrong sizes\")\n",
    "        return\n",
    "    return np.fft.ifft2(np.fft.fft2(A)*np.fft.fft2(B))\n",
    "\n",
    "def autocorr(A):\n",
    "    F = fft(A)\n",
    "    return ifft(F*np.conjugate(F))\n",
    "\n",
    "def regrid2(A,shape,ax0=None,ax1=None):\n",
    "    '''Uses fft to regrid ...'''\n",
    "    if ax0 is not None:\n",
    "        B,tb = resample(A,shape[0],t=ax0,axis=0)\n",
    "    else:\n",
    "        B = resample(A,shape[0],axis=0)\n",
    "    if ax1 is not None:\n",
    "        C,tc = resample(B,shape[1],t=ax1,axis=1)\n",
    "    else:\n",
    "        C = resample(B,shape[1],axis=1)\n",
    "    return C\n",
    "        \n",
    "\n",
    "'''Deltas'''\n",
    "M = 1\n",
    "x0 = np.random.uniform(low=-0.5,high=0.5,size=M)\n",
    "y0 = np.random.uniform(low=-0.5,high=0.5,size=M)\n",
    "p0 = np.random.uniform(size=M)\n",
    "\n",
    "wavelength = 0.01\n",
    "N=100\n",
    "print('number:{0}'.format(N))\n",
    "z = 100.\n",
    "x = np.linspace(-1,1,N)\n",
    "dx = np.abs(x[1]-x[0])\n",
    "X,Y = np.meshgrid(x,x)\n",
    "Usky = np.zeros([N,N])\n",
    "for xi,yi,pi in zip(x0,y0,p0):\n",
    "    Usky += pi*np.exp(-((X-xi)**2 + (Y-yi)**2)/(2*dx)**2)\n",
    "\n",
    "Usky2 = regrid2(Usky,[2*N,2*N])\n",
    "\n",
    "Uprop = np.zeros([N,N])*1j\n",
    "for xi,yi,pi in zip(x0,y0,p0):\n",
    "    r2 = ((X - xi)**2 + (Y - yi)**2 + z**2)/wavelength**2\n",
    "    Uprop += (z/wavelength)/r2*np.exp(1j*2*np.pi*np.sqrt(r2) - 1j*np.pi/2)\n",
    "\n",
    "print(np.sum(autocorr(Usky) - autocorr(Uprop)))\n",
    "f,(ax1,ax2,ax3) = plt.subplots(3)\n",
    "ax1.imshow(Usky2,extent=(x[0],x[-1],x[0],x[-1]),origin='lower')\n",
    "ax2.imshow(np.real(Uprop),extent=(x[0],x[-1],x[0],x[-1]),origin='lower')\n",
    "ax3.imshow(np.angle(autocorr(Uprop)),extent=(x[0],x[-1],x[0],x[-1]),origin='lower',alpha=0.5)\n",
    "ax3.imshow(np.angle(autocorr(Usky)),extent=(x[0],x[-1],x[0],x[-1]),origin='lower',alpha=0.5)\n",
    "plt.show()\n",
    "\n",
    "\n",
    "w = 1.\n",
    "kx = np.fft.fftshift(np.fft.fftfreq(N,d=dx))\n",
    "dk = np.abs(kx[1] - kx[0])#want dk * k * z = 1/4\n",
    "Kx,Ky = np.meshgrid(kx,kx)\n",
    "\n",
    "\n",
    "f,(ax1,ax2,ax3) = plt.subplots(3)\n",
    "ax1.imshow(Usky,extent=(x[0],x[-1],x[0],x[-1]),origin='lower',alpha=0.5)\n",
    "Asky = fft(Usky)\n",
    "ax2.imshow(np.abs(Asky),extent=(kx[0],kx[-1],kx[0],kx[-1]),origin='lower')\n",
    "ax3.imshow(np.angle(Asky),extent=(kx[0],kx[-1],kx[0],kx[-1]),origin='lower')\n",
    "plt.show()"
   ]
  },
  {
   "cell_type": "code",
   "execution_count": 37,
   "metadata": {
    "collapsed": false
   },
   "outputs": [
    {
     "name": "stdout",
     "output_type": "stream",
     "text": [
      "number:12318\n"
     ]
    }
   ],
   "source": [
    "from scipy.interpolate import griddata\n",
    "f,(ax4,ax5,ax6) = plt.subplots(3)\n",
    "w = 10\n",
    "#want dk * k * z = 1/4\n",
    "dk = 1./(4.*2.*np.pi*w)\n",
    "N = int(np.ceil((kx[-1] - kx[0])/dk) + 1)\n",
    "print('number:{0}'.format(N))\n",
    "x = np.linspace(-1,1,N)\n",
    "dx = np.abs(x[1]-x[0])\n",
    "X,Y = np.meshgrid(x,x)\n",
    "kx_ = np.fft.fftshift(np.fft.fftfreq(N,d=dx))\n",
    "Kx_,Ky_ = np.meshgrid(kx_,kx_)\n",
    "Prop = np.exp(1j*2*np.pi*w*np.sqrt(1j - Kx**2 - Ky**2))\n",
    "Askyregrid = griddata((Kx.flatten(),Ky.flatten()),Asky.flatten(),(Kx_.flatten(),Ky_.flatten())).reshape(Kx_.shape)\n",
    "ax4.imshow(np.abs(Prop),extent=(kx_[0],kx_[-1],kx_[0],kx_[-1]),origin='lower')\n",
    "ax5.imshow(np.angle(Prop),extent=(kx_[0],kx_[-1],kx_[0],kx_[-1]),origin='lower')\n",
    "\n",
    "Uskyp = ifft(Asky*Prop)\n",
    "ax6.imshow(np.real(Uskyp),extent=(x[0],x[-1],x[0],x[-1]),origin='lower',alpha=0.5)\n",
    "plt.show()"
   ]
  },
  {
   "cell_type": "code",
   "execution_count": 51,
   "metadata": {
    "collapsed": false
   },
   "outputs": [
    {
     "name": "stdout",
     "output_type": "stream",
     "text": [
      "Help on function fftconvolve in module scipy.signal.signaltools:\n",
      "\n",
      "fftconvolve(in1, in2, mode='full')\n",
      "    Convolve two N-dimensional arrays using FFT.\n",
      "    \n",
      "    Convolve `in1` and `in2` using the fast Fourier transform method, with\n",
      "    the output size determined by the `mode` argument.\n",
      "    \n",
      "    This is generally much faster than `convolve` for large arrays (n > ~500),\n",
      "    but can be slower when only a few output values are needed, and can only\n",
      "    output float arrays (int or object array inputs will be cast to float).\n",
      "    \n",
      "    Parameters\n",
      "    ----------\n",
      "    in1 : array_like\n",
      "        First input.\n",
      "    in2 : array_like\n",
      "        Second input. Should have the same number of dimensions as `in1`;\n",
      "        if sizes of `in1` and `in2` are not equal then `in1` has to be the\n",
      "        larger array.\n",
      "    mode : str {'full', 'valid', 'same'}, optional\n",
      "        A string indicating the size of the output:\n",
      "    \n",
      "        ``full``\n",
      "           The output is the full discrete linear convolution\n",
      "           of the inputs. (Default)\n",
      "        ``valid``\n",
      "           The output consists only of those elements that do not\n",
      "           rely on the zero-padding.\n",
      "        ``same``\n",
      "           The output is the same size as `in1`, centered\n",
      "           with respect to the 'full' output.\n",
      "    \n",
      "    Returns\n",
      "    -------\n",
      "    out : array\n",
      "        An N-dimensional array containing a subset of the discrete linear\n",
      "        convolution of `in1` with `in2`.\n",
      "    \n",
      "    Examples\n",
      "    --------\n",
      "    Autocorrelation of white noise is an impulse.  (This is at least 100 times\n",
      "    as fast as `convolve`.)\n",
      "    \n",
      "    >>> from scipy import signal\n",
      "    >>> sig = np.random.randn(1000)\n",
      "    >>> autocorr = signal.fftconvolve(sig, sig[::-1], mode='full')\n",
      "    \n",
      "    >>> import matplotlib.pyplot as plt\n",
      "    >>> fig, (ax_orig, ax_mag) = plt.subplots(2, 1)\n",
      "    >>> ax_orig.plot(sig)\n",
      "    >>> ax_orig.set_title('White noise')\n",
      "    >>> ax_mag.plot(np.arange(-len(sig)+1,len(sig)), autocorr)\n",
      "    >>> ax_mag.set_title('Autocorrelation')\n",
      "    >>> fig.tight_layout()\n",
      "    >>> fig.show()\n",
      "    \n",
      "    Gaussian blur implemented using FFT convolution.  Notice the dark borders\n",
      "    around the image, due to the zero-padding beyond its boundaries.\n",
      "    The `convolve2d` function allows for other types of image boundaries,\n",
      "    but is far slower.\n",
      "    \n",
      "    >>> from scipy import misc\n",
      "    >>> face = misc.face(gray=True)\n",
      "    >>> kernel = np.outer(signal.gaussian(70, 8), signal.gaussian(70, 8))\n",
      "    >>> blurred = signal.fftconvolve(face, kernel, mode='same')\n",
      "    \n",
      "    >>> fig, (ax_orig, ax_kernel, ax_blurred) = plt.subplots(1, 3)\n",
      "    >>> ax_orig.imshow(face, cmap='gray')\n",
      "    >>> ax_orig.set_title('Original')\n",
      "    >>> ax_orig.set_axis_off()\n",
      "    >>> ax_kernel.imshow(kernel, cmap='gray')\n",
      "    >>> ax_kernel.set_title('Gaussian kernel')\n",
      "    >>> ax_kernel.set_axis_off()\n",
      "    >>> ax_blurred.imshow(blurred, cmap='gray')\n",
      "    >>> ax_blurred.set_title('Blurred')\n",
      "    >>> ax_blurred.set_axis_off()\n",
      "    >>> fig.show()\n",
      "\n"
     ]
    }
   ],
   "source": [
    "from scipy.signal import fftconvolve\n",
    "help(fftconvolve)"
   ]
  },
  {
   "cell_type": "code",
   "execution_count": null,
   "metadata": {
    "collapsed": true
   },
   "outputs": [],
   "source": []
  }
 ],
 "metadata": {
  "kernelspec": {
   "display_name": "Python 3",
   "language": "python",
   "name": "python3"
  },
  "language_info": {
   "codemirror_mode": {
    "name": "ipython",
    "version": 3
   },
   "file_extension": ".py",
   "mimetype": "text/x-python",
   "name": "python",
   "nbconvert_exporter": "python",
   "pygments_lexer": "ipython3",
   "version": "3.5.1"
  }
 },
 "nbformat": 4,
 "nbformat_minor": 0
}
