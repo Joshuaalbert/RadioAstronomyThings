{
 "cells": [
  {
   "cell_type": "code",
   "execution_count": 3,
   "metadata": {
    "collapsed": false
   },
   "outputs": [
    {
     "name": "stdout",
     "output_type": "stream",
     "text": [
      "('N no atmostphere: x,y,z=0:', 1.0)\n"
     ]
    }
   ],
   "source": [
    "'''Describe the refractive index as a sum of basis functions with corresponding jacobians given.\n",
    "The refractive index is described per layer.\n",
    "'''\n",
    "import numpy as np\n",
    "\n",
    "class gaussianDecomposition(object):\n",
    "    def __init__(self,params):\n",
    "        self.x0 = params[:,0]\n",
    "        self.y0 = params[:,1]\n",
    "        self.z0 = params[:,2]\n",
    "        self.a = params[:,3]\n",
    "        self.bx = params[:,4]\n",
    "        self.by = params[:,5]\n",
    "        self.bz = params[:,6]    \n",
    "\n",
    "    def compute_zeroth(self,x,y,z):\n",
    "        '''Return the nearest.'''\n",
    "        zero = 1. \n",
    "        i = 0\n",
    "        while i < np.size(self.x0):\n",
    "            zero += self.a[i]*np.exp(-(x-self.x0[i])**2/self.bx[i]**2-(y-self.y0[i])**2/self.by[i]**2-(z-self.z0[i])**2/self.bz[i]**2)\n",
    "            i += 1\n",
    "        return zero\n",
    "\n",
    "class NObject(gaussianDecomposition):\n",
    "    def __init__(self,params):\n",
    "        super(NObject,self).__init__(params)\n",
    "#    def __init__(self,data,x,y,z):\n",
    "#        '''data is cartesian, but compute will be in spherical'''\n",
    "#        super(NObject,self).__init__(data,x,y,z)\n",
    "    def compute_n(self,x,y,z):\n",
    "        #convert r,theta,phi to x,y,z\n",
    "        #x,y,z = coordsSph2Cart(r,theta,phi)\n",
    "        return self.compute_zeroth(x,y,z)\n",
    "    \n",
    "def noAtmosphere():\n",
    "    x0 = [0]#*np.cos(c0.spherical.lon.rad+0.1)*np.sin(np.pi/2-c0.spherical.lat.rad)]\n",
    "    y0 = [0.]#*np.sin(c0.spherical.lon.rad)*np.sin(np.pi/2-c0.spherical.lat.rad)]\n",
    "    z0 = [0]#*np.cos(np.pi/2-c0.spherical.lat.rad)]\n",
    "    a = [0.]\n",
    "    bx=[1]\n",
    "    by=[1]\n",
    "    bz=[1]\n",
    "    params = np.array([x0,y0,z0,a,bx,by,bz]).transpose()\n",
    "    NObj = NObject(params)\n",
    "    return NObj\n",
    "    \n",
    "if __name__ == '__main__':\n",
    "    NObj = noAtmosphere()\n",
    "    print (\"N no atmostphere: x,y,z=0:\",NObj.compute_n(0,0,0))\n",
    "    "
   ]
  },
  {
   "cell_type": "code",
   "execution_count": null,
   "metadata": {
    "collapsed": true
   },
   "outputs": [],
   "source": []
  }
 ],
 "metadata": {
  "kernelspec": {
   "display_name": "Python 2",
   "language": "python",
   "name": "python2"
  },
  "language_info": {
   "codemirror_mode": {
    "name": "ipython",
    "version": 2
   },
   "file_extension": ".py",
   "mimetype": "text/x-python",
   "name": "python",
   "nbconvert_exporter": "python",
   "pygments_lexer": "ipython2",
   "version": "2.7.11"
  }
 },
 "nbformat": 4,
 "nbformat_minor": 0
}
