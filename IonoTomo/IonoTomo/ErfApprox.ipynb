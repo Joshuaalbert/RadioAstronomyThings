{
 "cells": [
  {
   "cell_type": "code",
   "execution_count": 15,
   "metadata": {
    "collapsed": false
   },
   "outputs": [],
   "source": [
    "import numpy as np\n",
    "from scipy.special import erf as serf\n",
    "\n",
    "def erf(x):\n",
    "    return serf(x)\n",
    "\n",
    "def erfApptanh(x):\n",
    "    return np.tanh(np.log(2)*np.sqrt(np.pi)*x)\n",
    "\n",
    "import pylab as plt\n",
    "x = np.linspace(-4,4,100)\n",
    "y1 = erf(x)\n",
    "y2 =erfApptanh(x)\n",
    "plt.plot(x,y1,label='erf')\n",
    "plt.plot(x,y2,label='erfAppTanh')\n",
    "plt.show()"
   ]
  },
  {
   "cell_type": "code",
   "execution_count": 12,
   "metadata": {
    "collapsed": false
   },
   "outputs": [
    {
     "name": "stdout",
     "output_type": "stream",
     "text": [
      "0.997300203937\n"
     ]
    }
   ],
   "source": [
    "print(erf(3/np.sqrt(2)))"
   ]
  },
  {
   "cell_type": "code",
   "execution_count": 14,
   "metadata": {
    "collapsed": false
   },
   "outputs": [
    {
     "data": {
      "text/plain": [
       "1.4142135623730951"
      ]
     },
     "execution_count": 14,
     "metadata": {},
     "output_type": "execute_result"
    }
   ],
   "source": [
    "np.sqrt(2)"
   ]
  },
  {
   "cell_type": "code",
   "execution_count": null,
   "metadata": {
    "collapsed": true
   },
   "outputs": [],
   "source": []
  }
 ],
 "metadata": {
  "kernelspec": {
   "display_name": "Python 3",
   "language": "python",
   "name": "python3"
  },
  "language_info": {
   "codemirror_mode": {
    "name": "ipython",
    "version": 3
   },
   "file_extension": ".py",
   "mimetype": "text/x-python",
   "name": "python",
   "nbconvert_exporter": "python",
   "pygments_lexer": "ipython3",
   "version": "3.5.1"
  }
 },
 "nbformat": 4,
 "nbformat_minor": 0
}
