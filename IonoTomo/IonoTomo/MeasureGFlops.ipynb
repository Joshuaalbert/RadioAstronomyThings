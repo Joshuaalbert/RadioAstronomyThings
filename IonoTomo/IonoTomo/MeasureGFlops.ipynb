{
 "cells": [
  {
   "cell_type": "code",
   "execution_count": 1,
   "metadata": {
    "collapsed": false
   },
   "outputs": [
    {
     "name": "stdout",
     "output_type": "stream",
     "text": [
      "blas_mkl_info:\n",
      "  NOT AVAILABLE\n",
      "openblas_info:\n",
      "    language = c\n",
      "    library_dirs = ['/usr/local/lib']\n",
      "    libraries = ['openblas', 'openblas']\n",
      "    define_macros = [('HAVE_CBLAS', None)]\n",
      "blas_opt_info:\n",
      "    language = c\n",
      "    library_dirs = ['/usr/local/lib']\n",
      "    libraries = ['openblas', 'openblas']\n",
      "    define_macros = [('HAVE_CBLAS', None)]\n",
      "lapack_opt_info:\n",
      "    language = c\n",
      "    library_dirs = ['/usr/local/lib']\n",
      "    libraries = ['openblas', 'openblas']\n",
      "    define_macros = [('HAVE_CBLAS', None)]\n",
      "openblas_lapack_info:\n",
      "    language = c\n",
      "    library_dirs = ['/usr/local/lib']\n",
      "    libraries = ['openblas', 'openblas']\n",
      "    define_macros = [('HAVE_CBLAS', None)]\n",
      "  64, 0.2167891,  35.14937\n",
      "  80, 0.1892311,  50.41454\n",
      "  96, 0.2331079,  49.16177\n",
      " 104, 0.1914037,  64.88902\n",
      " 112, 0.1874056,  71.39593\n",
      " 120, 0.2183836,  65.66427\n",
      " 128, 0.2042942,  74.89199\n",
      " 144, 0.2079764,  82.79786\n",
      " 160, 0.2035716,  94.02099\n",
      " 176,  0.225256,  93.49364\n",
      " 192, 0.2470064,  93.03404\n",
      " 200, 0.2519317,  95.02575\n",
      " 208, 0.2839887,  87.67956\n",
      " 224, 0.2622518,  102.2681\n",
      " 240, 0.2689315,  106.8674\n",
      " 256, 0.2820266,  108.7132\n",
      " 384, 0.3482068,  132.1629\n",
      " 512,  0.403617,  152.0749\n"
     ]
    }
   ],
   "source": [
    "import numpy as np  \n",
    "import time   \n",
    "N = 6000  \n",
    "M = 10000  \n",
    "  \n",
    "k_list = [64, 80, 96, 104, 112, 120, 128, 144, 160, 176, 192, 200, 208, 224, 240, 256, 384,512]  \n",
    "  \n",
    "def get_gflops(M, N, K):  \n",
    "    return M*N*(2.0*K-1.0) / 1000**3  \n",
    "  \n",
    "np.show_config()  \n",
    "  \n",
    "for K in k_list:  \n",
    "    a = np.array(np.random.random((M, N)), dtype=np.double, order='C', copy=False)  \n",
    "    b = np.array(np.random.random((N, K)), dtype=np.double, order='C', copy=False)  \n",
    "    A = np.matrix(a, dtype=np.double, copy=False)  \n",
    "    B = np.matrix(b, dtype=np.double, copy=False)  \n",
    "  \n",
    "    C = A*B  \n",
    "  \n",
    "    start = time.time()  \n",
    "  \n",
    "    C = A*B  \n",
    "    C = A*B  \n",
    "    C = A*B  \n",
    "    C = A*B  \n",
    "    C = A*B  \n",
    "  \n",
    "    end = time.time()  \n",
    "  \n",
    "    tm = (end-start) / 5.0  \n",
    "  \n",
    "    print ('{0:4}, {1:9.7}, {2:9.7}'.format(K, tm, get_gflops(M, N, K) / tm))"
   ]
  },
  {
   "cell_type": "code",
   "execution_count": null,
   "metadata": {
    "collapsed": true
   },
   "outputs": [],
   "source": []
  }
 ],
 "metadata": {
  "kernelspec": {
   "display_name": "Python 3",
   "language": "python",
   "name": "python3"
  },
  "language_info": {
   "codemirror_mode": {
    "name": "ipython",
    "version": 3
   },
   "file_extension": ".py",
   "mimetype": "text/x-python",
   "name": "python",
   "nbconvert_exporter": "python",
   "pygments_lexer": "ipython3",
   "version": "3.4.3"
  }
 },
 "nbformat": 4,
 "nbformat_minor": 1
}
