{
 "cells": [
  {
   "cell_type": "code",
   "execution_count": null,
   "metadata": {
    "collapsed": true
   },
   "outputs": [],
   "source": [
    "import pyrap.measures as pm\n",
    "from pyrap.quanta import quantity as q\n",
    "\n",
    "m = pm.measures()\n",
    "julianSeconds = 4.93258e9\n",
    "jD = julianSeconds/86400. - 2./24.\n",
    "\n",
    "time = q('{0}d'.format(jD))\n",
    "time2 = m.epoch('TAI',time)\n",
    "\n",
    "m.do_frame(time2)\n",
    "m.do_frame(m.observatory('GMRT'))\n",
    "m.do_frame(m.direction('J2000',q([-2.74393],'rad'),q(0.532485,'rad')))\n",
    "print \"gmrt\",m.observatory('GMRT')\n",
    "x = q([1.65701e6,1.65702e6],'m')\n",
    "y = q([5.79858e6,5.79822e6],'m')\n",
    "z = q([2.07328e6,2.07326e6],'m')\n",
    "pos = m.position('itrf',x,y,z)\n",
    "print \"pos\",pos\n",
    "posb = m.asbaseline(pos)\n",
    "print \"posb:\",posb\n",
    "sb = m.baseline('J2000',x,y,z)\n",
    "print \"sb:\",sb\n",
    "out = m.uvw('itrf',x,y,z)\n",
    "print \"out\",out\n",
    "\n",
    "\n",
    "\n",
    "\n",
    "\n",
    "\n"
   ]
  }
 ],
 "metadata": {
  "anaconda-cloud": {},
  "kernelspec": {
   "display_name": "Python [default]",
   "language": "python",
   "name": "python2"
  },
  "language_info": {
   "codemirror_mode": {
    "name": "ipython",
    "version": 2
   },
   "file_extension": ".py",
   "mimetype": "text/x-python",
   "name": "python",
   "nbconvert_exporter": "python",
   "pygments_lexer": "ipython2",
   "version": "2.7.12"
  }
 },
 "nbformat": 4,
 "nbformat_minor": 0
}
